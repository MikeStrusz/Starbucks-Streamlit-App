import pandas as pd
import matplotlib.pyplot as plt
import seaborn as sns
import streamlit as st

# Load the dataset using the full path
sb = pd.read_csv(r'C:\Users\mrstr\Downloads\M8-Mini-Project-Starbucks-EDA\data\cleaned_starbucks.csv')



sb.columns

